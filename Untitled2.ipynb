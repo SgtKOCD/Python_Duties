{
 "cells": [
  {
   "cell_type": "code",
   "execution_count": 5,
   "id": "3fed5bca-c30a-4f9e-9a7d-7ca77c49f117",
   "metadata": {},
   "outputs": [
    {
     "name": "stdout",
     "output_type": "stream",
     "text": [
      "[1, 2, 3, 'ahmet', 4, 5, 6, 7, 8, 9]\n"
     ]
    }
   ],
   "source": [
    "ilk_liste = [[1,2,3,[\"ahmet\"]],[4,5,6],[7,8,9]] #ilk listemiz\n",
    "\n",
    "def duz_liste(a, result=None): #düzleyen fonksiyon\n",
    "    \"\"\" Flattens a nested list. \"\"\"\n",
    "    if result is None:              #cevap boş ise liste ekle dzaten boş ise boş dizi döndürecek\n",
    "        result = []\n",
    "\n",
    "    for x in a:                      #burda isinstance nested_listler için bir fonksiyon\n",
    "        if isinstance(x, list):      # dizilerin içinde dizi varsa girip tarar\n",
    "            duz_liste(x, result)     # eğer dizi içinde dizi varsa girer tarar yoksa yeni listeye ekler\n",
    "        else:\n",
    "            result.append(x)\n",
    "    return result\n",
    "\n",
    "print(duz_liste(ilk_liste))\n"
   ]
  },
  {
   "cell_type": "code",
   "execution_count": 15,
   "id": "919eeb41-48d2-45aa-b7d8-7d8bb3503d62",
   "metadata": {},
   "outputs": [
    {
     "name": "stdout",
     "output_type": "stream",
     "text": [
      "[[7, 8, 9], [4, 5, 6], [1, 2, 3, ['ahmet']]]\n"
     ]
    }
   ],
   "source": [
    "ilk_liste = [[1,2,3,[\"ahmet\"]],[4,5,6],[7,8,9]]\n",
    "ilk_liste=ilk_liste[ : :-1]\n",
    "print (ilk_liste)"
   ]
  }
 ],
 "metadata": {
  "kernelspec": {
   "display_name": "Python 3 (ipykernel)",
   "language": "python",
   "name": "python3"
  },
  "language_info": {
   "codemirror_mode": {
    "name": "ipython",
    "version": 3
   },
   "file_extension": ".py",
   "mimetype": "text/x-python",
   "name": "python",
   "nbconvert_exporter": "python",
   "pygments_lexer": "ipython3",
   "version": "3.10.1"
  }
 },
 "nbformat": 4,
 "nbformat_minor": 5
}
